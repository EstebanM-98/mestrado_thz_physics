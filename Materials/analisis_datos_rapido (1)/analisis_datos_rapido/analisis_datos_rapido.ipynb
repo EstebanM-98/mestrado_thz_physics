{
 "cells": [
  {
   "cell_type": "code",
   "execution_count": 12,
   "id": "5d4df2bf",
   "metadata": {},
   "outputs": [],
   "source": [
    "import os\n",
    "import pandas as pd\n",
    "import numpy as np\n",
    "import matplotlib.pyplot as plt\n",
    "# from scipy.signal import find_peaks\n",
    "import scipy.signal.windows as win\n",
    "import scipy as sp\n",
    "import warnings\n",
    "import re\n",
    "from ipywidgets import interact,widgets\n",
    "from scipy.optimize import curve_fit\n",
    "import glob\n",
    "import numpy as np\n",
    "import matplotlib.pyplot as plt\n",
    "from scipy.special import erfc\n",
    "from scipy.misc import derivative\n",
    "from matplotlib.colors import hsv_to_rgb\n",
    "import warnings\n",
    "from functions_master import *\n",
    "from glob import glob\n",
    "from mpl_toolkits.axes_grid1.inset_locator import inset_axes\n",
    "import matplotlib.gridspec as gridspec"
   ]
  },
  {
   "cell_type": "markdown",
   "id": "8961fb2c",
   "metadata": {},
   "source": [
    "# Reference.\n",
    "\n",
    "9e-10 "
   ]
  },
  {
   "cell_type": "code",
   "execution_count": 13,
   "id": "76db984f",
   "metadata": {},
   "outputs": [],
   "source": [
    "\n",
    "# Suprimir FutureWarnings\n",
    "warnings.simplefilter(action='ignore', category=FutureWarning)\n",
    "\n",
    "\n",
    "c = 0.299792458 # speed of light mm/ps\n",
    "\n",
    "def FourierT2(f,N):\n",
    "    return np.conj(sp.fft.fft(f.values,n=N))\n",
    "\n",
    "def calcular_n(omega, phi_exp, c, d):\n",
    "\n",
    "    return 1 + (c / (omega * d)) * phi_exp\n",
    "\n",
    "def calcular_kappa(omega, T_exp, n, c, d):\n",
    "\n",
    "    term = ((n + 1)**2 / (4 * n)) * T_exp\n",
    "    return -(c / (omega * d)) * np.log(term)\n",
    "\n",
    "\n",
    "def extraer_angulos(nombres_archivos):\n",
    "    \"\"\"\n",
    "    Extrae el patrón que está después del último '__' y antes de '.dat'\n",
    "    Ejemplo: '...__hori-80deg.dat' → 'hori-80deg'\n",
    "    \"\"\"\n",
    "    patrones = []\n",
    "    patron_regex = re.compile(r'__([^__]+)\\.dat$')  # Captura lo entre último __ y .dat\n",
    "    \n",
    "    for nombre in nombres_archivos:\n",
    "        coincidencia = patron_regex.search(nombre)\n",
    "        if coincidencia:\n",
    "            patrones.append(coincidencia.group(1))\n",
    "    \n",
    "    return patrones\n"
   ]
  },
  {
   "cell_type": "code",
   "execution_count": 23,
   "id": "c9a38d39",
   "metadata": {},
   "outputs": [],
   "source": [
    "# Configuración desde el archivo txt (simulada aquí como un diccionario)\n",
    "config = {\n",
    "    'figure.constrained_layout.use': True,\n",
    "    'figure.figsize': (5.4, 3.2),\n",
    "    'figure.titlesize': 'small',\n",
    "    'figure.labelsize': 'small',\n",
    "    'font.size': 10,\n",
    "    'font.family': 'serif',\n",
    "    'text.usetex': False,\n",
    "    'pgf.texsystem': 'lualatex',\n",
    "    'pgf.rcfonts': False,\n",
    "    'pgf.preamble': r'\\usepackage{siunitx,fontspec}\\setmainfont{Times New Roman}',\n",
    "    'lines.linewidth': 1,\n",
    "    'lines.markerfacecolor': 'none',\n",
    "    'lines.markersize': 4,\n",
    "    'legend.frameon': False,\n",
    "    'legend.markerscale': 0.8,\n",
    "    'legend.fontsize': 'small',\n",
    "    'legend.title_fontsize': 'small',\n",
    "    'legend.handlelength': 1.5,\n",
    "    'legend.handletextpad': 0.2,\n",
    "    'xtick.top': True,\n",
    "    'xtick.major.size': 5,\n",
    "    'xtick.major.width': 0.8,\n",
    "    'xtick.minor.width': 0.8,\n",
    "    'xtick.minor.size': 3,\n",
    "    'xtick.labelsize': 'small',\n",
    "    'xtick.direction': 'in',\n",
    "    'ytick.right': True,\n",
    "    'ytick.major.size': 5,\n",
    "    'ytick.major.width': 0.8,\n",
    "    'ytick.minor.width': 0.8,\n",
    "    'ytick.minor.size': 3,\n",
    "    'ytick.labelsize': 'small',\n",
    "    'ytick.direction': 'in',\n",
    "    'axes.linewidth': 0.8,\n",
    "    'axes.axisbelow': False,\n",
    "    'axes.labelsize': 'medium',\n",
    "    'axes.labelpad': 2,\n",
    "    'figure.constrained_layout.h_pad': 0.02,\n",
    "    'figure.constrained_layout.w_pad': 0.01,\n",
    "    'figure.constrained_layout.hspace': 0.02,\n",
    "    'figure.constrained_layout.wspace': 0.02,\n",
    "    'svg.fonttype': 'none'\n",
    "}\n",
    "\n",
    "# Aplicar la configuración\n",
    "#plt.rcParams.update(config)#"
   ]
  },
  {
   "cell_type": "code",
   "execution_count": 29,
   "id": "b86f25dc",
   "metadata": {},
   "outputs": [],
   "source": [
    "ruta_actual = os.getcwd()  # Muestra la ruta actual"
   ]
  },
  {
   "cell_type": "code",
   "execution_count": 30,
   "id": "1bb6fb6b",
   "metadata": {},
   "outputs": [
    {
     "data": {
      "text/plain": [
       "'C:\\\\Users\\\\LAB103\\\\Documents\\\\THz\\\\THzEsteban\\\\analisis_datos_rapido'"
      ]
     },
     "execution_count": 30,
     "metadata": {},
     "output_type": "execute_result"
    }
   ],
   "source": [
    "ruta_actual"
   ]
  },
  {
   "cell_type": "code",
   "execution_count": 31,
   "id": "559d8314",
   "metadata": {},
   "outputs": [],
   "source": [
    "ruta_actual = os.getcwd()\n",
    "\n",
    "sample1_ang_csv = os.path.join(ruta_actual,\"sample1_ang.csv\")\n",
    "sample2_ang_csv= os.path.join(ruta_actual,\"sample2_ang.csv\")\n",
    "\n",
    "carpeta_sample1 = os.path.join(ruta_actual,\"src\\\\sample1_ang\")\n",
    "carpeta_ref_sample1 = os.path.join(ruta_actual,\"src\\\\reference1\")\n",
    "\n",
    "sample1_med = glob(os.path.join(carpeta_sample1, \"*\"))\n",
    "angulos_sample1  = extraer_angulos(sample1_med)\n",
    "rutas_ref_sample1 = glob(os.path.join(carpeta_ref_sample1, \"*\"))\n",
    "\n"
   ]
  },
  {
   "cell_type": "markdown",
   "id": "419952af",
   "metadata": {},
   "source": [
    "# FULL DATA"
   ]
  },
  {
   "cell_type": "code",
   "execution_count": 32,
   "id": "1e580e29",
   "metadata": {},
   "outputs": [],
   "source": [
    "import matplotlib.gridspec as gridspec"
   ]
  },
  {
   "cell_type": "code",
   "execution_count": 33,
   "id": "4e638dc8",
   "metadata": {
    "scrolled": false
   },
   "outputs": [
    {
     "data": {
      "application/vnd.jupyter.widget-view+json": {
       "model_id": "a2ad74d678e54e44b80a088031454d77",
       "version_major": 2,
       "version_minor": 0
      },
      "text/plain": [
       "interactive(children=(FloatSlider(value=57.5, continuous_update=False, description='left', max=70.0, min=40.0,…"
      ]
     },
     "metadata": {},
     "output_type": "display_data"
    },
    {
     "data": {
      "text/plain": [
       "<function __main__.anim2(left, right_sample, right_subs, index, desv, d)>"
      ]
     },
     "execution_count": 33,
     "metadata": {},
     "output_type": "execute_result"
    }
   ],
   "source": [
    "def anim2(left,right_sample,right_subs,index,desv,d):\n",
    "    \n",
    "    right_ref= right_subs\n",
    "    left = left\n",
    "    N = 2**15\n",
    "\n",
    "    f = plt.figure(figsize=(7, 7), dpi=200)\n",
    "\n",
    "# Configuración de gridspec: 2 filas, 2 columnas, con alturas relativas 3:1\n",
    "    gs = gridspec.GridSpec(2, 2, height_ratios=[3, 1], width_ratios=[1, 1])\n",
    "\n",
    "    # --- Primera fila (más grande) ---\n",
    "    ax1 = plt.subplot(gs[0, 0])  # Subplot 221\n",
    "    ax2 = plt.subplot(gs[0, 1])  # Subplot 222\n",
    "\n",
    "    # --- Segunda fila (más pequeña) ---\n",
    "    ax3 = plt.subplot(gs[1, 0])  # Subplot 223\n",
    "    ax4 = plt.subplot(gs[1, 1])  # Subplot 224\n",
    "\n",
    "    print(index)\n",
    "    path_signal = sample1_med[int(index)]\n",
    "    path_ref = rutas_ref_sample1[0]\n",
    "    j = round(index)\n",
    "    print(j)\n",
    "\n",
    "    num_files = len(sample1_med)\n",
    "    angles = np.linspace(0, 360, num_files, endpoint=False)  # ángulos de 0 a 350\n",
    "\n",
    "    # Usar un mapa de colores cíclico\n",
    "    colors = [hsv_to_rgb([angle / 360.0, 0.6, 0.85]) for angle in angles]\n",
    "\n",
    "    params_window1 = ['gaussian', desv] #['nuttall']#['flattop'] #['gaussian', desv]#['nuttall'] #['kaiser',desv] #['flattop']# ['gaussian', desv]\n",
    "\n",
    "\n",
    "    phase, y_signal_ventaneada, y_substrate_padding, ventana = getSignalWindowed(path_signal,\n",
    "                                                                                 path_ref,\n",
    "                                                                                 left,\n",
    "                                                                                 right_sample,\n",
    "                                                                                 right_subs,\n",
    "                                                                                 params_window1)\n",
    "\n",
    "    y_subs_ventana = pd.Series(y_substrate_padding*ventana)\n",
    "\n",
    "    y_signal_ventaneada = pd.Series(y_signal_ventaneada*ventana)\n",
    "\n",
    "\n",
    "    val = 2\n",
    "    \n",
    "    ax1.plot(y_subs_ventana/max(y_subs_ventana), 'k',label='Ref')\n",
    "    ax1.plot(ventana/max(ventana), 'k--')\n",
    "    ax1.set_title(\"Reference\")\n",
    "\n",
    "    ax1.plot(y_signal_ventaneada/max(y_signal_ventaneada) + val,label='Sam')\n",
    "    ax1.plot(ventana/max(ventana) + val, 'k--')\n",
    "    ax1.legend(loc='lower left')\n",
    "        \n",
    "\n",
    "    right_sample = right_sample\n",
    "\n",
    "\n",
    "    # params_window1 = ['flattop'] #['gaussian', desv]\n",
    "    k = 15\n",
    "    nu = sp.fft.fftfreq(N, 1/30)\n",
    "        # Aplicar ventana de Hamming a la señal\n",
    "    \n",
    "    fft_y_signal_ventaneada = FourierT2(y_signal_ventaneada,N)[1:len(nu)//k]\n",
    "    fft_y_subs_ventaneada = FourierT2(y_subs_ventana,N)[1:len(nu)//k]\n",
    "\n",
    "    # fft_window = FourierT2(pd.Series(ventana),N)[1:len(nu)//k]\n",
    "\n",
    "    # Filtrar las frecuencias\n",
    "    nu = nu[1:len(nu)//k]\n",
    "    xmin, xmax = 0.15, 1.0\n",
    "    mask = (nu >= xmin) & (nu <= xmax)\n",
    "\n",
    "    fft_y_signal_ventaneada = fft_y_signal_ventaneada[mask]\n",
    "    fft_y_subs_ventaneada = fft_y_subs_ventaneada[mask]\n",
    "    nu_filtradas = nu[mask]\n",
    "\n",
    "    T = fft_y_signal_ventaneada/fft_y_subs_ventaneada*np.exp(1j*2*np.pi*nu_filtradas*phase*1/30)\n",
    "    d = d\n",
    "    \n",
    "    T_exp = abs(T)\n",
    "\n",
    "    phi_exp = np.angle(T)\n",
    "\n",
    "    phi_exp = np.unwrap(phi_exp)\n",
    "\n",
    "    # plt.plot(nu_filtradas,abs(T)/max(abs(T)))\n",
    "    # plt.yscale('log')\n",
    "\n",
    "\n",
    "    ax2.plot(nu_filtradas, abs(T)/max(abs(T)))\n",
    "    ax2.set_ylabel(r\"$T_{exp}$\")\n",
    "    ax2.set_yscale('log')\n",
    "\n",
    "  \n",
    "\n",
    "    # =============================================\n",
    "    # Gráficos 223 y 224 (segunda fila)\n",
    "    # =============================================\n",
    "    # Gráfico 223 (ax3)\n",
    "    n = calcular_n(nu_filtradas*2*np.pi, phi_exp, c, d)\n",
    "    ax3.plot(nu_filtradas, n,'k')\n",
    "    ax3.set_xlabel(r\"$\\nu$ (THz)\")\n",
    "    ax3.set_ylabel(r\"$n$\")\n",
    "\n",
    "    # Gráfico 224 (ax4)\n",
    "    ax4.set_ylabel(r\"$\\kappa$\")\n",
    "    # ax4.set_title(angulos_sample1[j])\n",
    "    ax4.plot(nu_filtradas, calcular_kappa(nu_filtradas*2*np.pi, T_exp, n, c, d),'k')\n",
    "    ax4.set_xlabel(r\"$\\nu$ (THz)\")\n",
    "\n",
    "# Ajuste final\n",
    "# plt.tight_layout()\n",
    "\n",
    "\n",
    "\n",
    "    # plt.legend(bbox_to_anchor=(1.05, 3.0), loc='upper left', title=\"Ángulo de polarización\")\n",
    "    plt.tight_layout()\n",
    "\n",
    "opc=dict(continuous_update=False,readout_format=\".3f\")\n",
    "interact(anim2,       \n",
    "        left= widgets.FloatSlider(min=40,max=70,value=57.5,step=0.1,**opc),\n",
    "        right_sample= widgets.FloatSlider(min=50,max=70,value=63.5,step=0.1,**opc),\n",
    "        right_subs= widgets.FloatSlider(min=50,max=70,value=63.5,step=0.1,**opc),\n",
    "        index= widgets.FloatSlider(min=0,max=len(sample1_med)-1,value=0,step=1,**opc),\n",
    "        desv = widgets.FloatSlider(min=0,max=1000,value=150,step=0.001,**opc),\n",
    "        d = widgets.FloatSlider(min=0,max=1,value=0.627,step=0.01,**opc)\n",
    "\n",
    "        )"
   ]
  },
  {
   "cell_type": "code",
   "execution_count": 11,
   "id": "4aa41886",
   "metadata": {},
   "outputs": [
    {
     "data": {
      "text/plain": [
       "1"
      ]
     },
     "execution_count": 11,
     "metadata": {},
     "output_type": "execute_result"
    }
   ],
   "source": [
    "len(sample1_med)"
   ]
  },
  {
   "cell_type": "code",
   "execution_count": null,
   "id": "b0eaa2cd",
   "metadata": {},
   "outputs": [],
   "source": [
    "%conda update numpy\n",
    "\n"
   ]
  },
  {
   "cell_type": "code",
   "execution_count": null,
   "id": "8e29e07b",
   "metadata": {},
   "outputs": [],
   "source": []
  }
 ],
 "metadata": {
  "kernelspec": {
   "display_name": "Python 3",
   "language": "python",
   "name": "python3"
  },
  "language_info": {
   "codemirror_mode": {
    "name": "ipython",
    "version": 3
   },
   "file_extension": ".py",
   "mimetype": "text/x-python",
   "name": "python",
   "nbconvert_exporter": "python",
   "pygments_lexer": "ipython3",
   "version": "3.8.8"
  }
 },
 "nbformat": 4,
 "nbformat_minor": 5
}
